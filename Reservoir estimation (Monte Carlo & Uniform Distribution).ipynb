{
 "cells": [
  {
   "cell_type": "markdown",
   "id": "853d586f",
   "metadata": {},
   "source": [
    "**RESERVOIR ESTIMATION BY USING MONTE CARLO SIMULATION**"
   ]
  },
  {
   "cell_type": "markdown",
   "id": "75c346fc",
   "metadata": {},
   "source": [
    "*Importation of necessary libraries;*"
   ]
  },
  {
   "cell_type": "code",
   "execution_count": 1,
   "id": "74af7190",
   "metadata": {},
   "outputs": [],
   "source": [
    "import pandas as pd\n",
    "import numpy as np\n",
    "import matplotlib.pyplot as plt\n",
    "import matplotlib.ticker as mtick\n",
    "import seaborn as sns\n",
    "from numpy.random import rand  # for uniform distribution\n",
    "from numpy.random import randn # for normal distribution\n"
   ]
  },
  {
   "cell_type": "markdown",
   "id": "1ba6de0d",
   "metadata": {},
   "source": [
    "*Conversion of excel file into a dataframe and doing some arrangments on it;*"
   ]
  },
  {
   "cell_type": "code",
   "execution_count": 2,
   "id": "b430c601",
   "metadata": {},
   "outputs": [],
   "source": [
    "properties = pd.read_excel(\"Reservoir Properties.xlsx\")\n",
    "properties.reset_index(inplace=True)\n",
    "properties.drop(\"level_0\",axis=1,inplace=True)\n",
    "properties.drop(\"index\",axis=1,inplace=True)\n",
    "properties.rename(columns={\"Φe \":\"Porosity\",\"So \":\"OilSaturation\"}, inplace=True)\n"
   ]
  },
  {
   "cell_type": "markdown",
   "id": "01eaee21",
   "metadata": {},
   "source": [
    "*Defining the area of reservoir and formation volume factor of oil which are not present in the excel file;*"
   ]
  },
  {
   "cell_type": "code",
   "execution_count": 3,
   "id": "ea262893",
   "metadata": {},
   "outputs": [],
   "source": [
    "Areas=(8264*43560,8918*43560) # min and max values\n",
    "Bo=1.0680471"
   ]
  },
  {
   "cell_type": "markdown",
   "id": "2cdb0aa8",
   "metadata": {},
   "source": [
    "*Defining min. and max. values of each property;*"
   ]
  },
  {
   "cell_type": "code",
   "execution_count": 4,
   "id": "e5d335cb",
   "metadata": {},
   "outputs": [],
   "source": [
    "# defining min. and max. values:\n",
    "MaxPor=properties[\"Porosity\"].max()\n",
    "MinPor=properties[\"Porosity\"].min()\n",
    "MaxThick=properties[\"Thickness\"].max()\n",
    "MinThick=properties[\"Thickness\"].min()       \n",
    "MaxSo=properties[\"OilSaturation\"].max()\n",
    "MinSo=properties[\"OilSaturation\"].min()\n",
    "MaxArea=max(Areas)\n",
    "MinArea=min(Areas)\n"
   ]
  },
  {
   "cell_type": "markdown",
   "id": "1dc65be3",
   "metadata": {},
   "source": [
    "*Generating 10,000 random values of each property by using normal distribution and defining into numpy array forms, in the range of their min. and max. values;*"
   ]
  },
  {
   "cell_type": "code",
   "execution_count": 5,
   "id": "479af868",
   "metadata": {},
   "outputs": [],
   "source": [
    "np.random.seed(123) \n",
    "RandomPor= np.random.uniform(MinPor, MaxPor, size=10000)\n",
    "\n",
    "np.random.seed(124) \n",
    "RandomArea=np.random.uniform(MinArea, MaxArea, size=10000)\n",
    "\n",
    "np.random.seed(128)\n",
    "RandomThick=np.random.uniform(MinThick, MaxThick, size=10000)\n",
    "\n",
    "np.random.seed(134)\n",
    "RandomSo=np.random.uniform(MinSo, MaxSo, size=10000)\n",
    "\n",
    "RandomOOIP=np.array(0.18*RandomArea*RandomThick*RandomPor*RandomSo/Bo) # OOIP formula.\n",
    "# There is 0.18 multiply in order to convert ft^3 to bbl.\n",
    "\n"
   ]
  },
  {
   "cell_type": "markdown",
   "id": "da9049af",
   "metadata": {},
   "source": [
    "*Generating a new dataframe which includes all random values generated;*"
   ]
  },
  {
   "cell_type": "code",
   "execution_count": 6,
   "id": "57d581b9",
   "metadata": {},
   "outputs": [
    {
     "data": {
      "text/html": [
       "<div>\n",
       "<style scoped>\n",
       "    .dataframe tbody tr th:only-of-type {\n",
       "        vertical-align: middle;\n",
       "    }\n",
       "\n",
       "    .dataframe tbody tr th {\n",
       "        vertical-align: top;\n",
       "    }\n",
       "\n",
       "    .dataframe thead th {\n",
       "        text-align: right;\n",
       "    }\n",
       "</style>\n",
       "<table border=\"1\" class=\"dataframe\">\n",
       "  <thead>\n",
       "    <tr style=\"text-align: right;\">\n",
       "      <th></th>\n",
       "      <th>Porosity</th>\n",
       "      <th>Area</th>\n",
       "      <th>Thickness</th>\n",
       "      <th>Saturation</th>\n",
       "      <th>OOIP,STB</th>\n",
       "    </tr>\n",
       "  </thead>\n",
       "  <tbody>\n",
       "    <tr>\n",
       "      <th>0</th>\n",
       "      <td>0.205123</td>\n",
       "      <td>3.630014e+08</td>\n",
       "      <td>42.599022</td>\n",
       "      <td>0.614500</td>\n",
       "      <td>3.284928e+08</td>\n",
       "    </tr>\n",
       "    <tr>\n",
       "      <th>1</th>\n",
       "      <td>0.132688</td>\n",
       "      <td>3.812170e+08</td>\n",
       "      <td>22.683780</td>\n",
       "      <td>0.418586</td>\n",
       "      <td>8.094407e+07</td>\n",
       "    </tr>\n",
       "    <tr>\n",
       "      <th>2</th>\n",
       "      <td>0.122222</td>\n",
       "      <td>3.762840e+08</td>\n",
       "      <td>18.336480</td>\n",
       "      <td>0.515553</td>\n",
       "      <td>7.327148e+07</td>\n",
       "    </tr>\n",
       "    <tr>\n",
       "      <th>3</th>\n",
       "      <td>0.179499</td>\n",
       "      <td>3.730343e+08</td>\n",
       "      <td>15.372584</td>\n",
       "      <td>0.652480</td>\n",
       "      <td>1.131896e+08</td>\n",
       "    </tr>\n",
       "    <tr>\n",
       "      <th>4</th>\n",
       "      <td>0.209183</td>\n",
       "      <td>3.709394e+08</td>\n",
       "      <td>21.884503</td>\n",
       "      <td>0.535664</td>\n",
       "      <td>1.532994e+08</td>\n",
       "    </tr>\n",
       "    <tr>\n",
       "      <th>...</th>\n",
       "      <td>...</td>\n",
       "      <td>...</td>\n",
       "      <td>...</td>\n",
       "      <td>...</td>\n",
       "      <td>...</td>\n",
       "    </tr>\n",
       "    <tr>\n",
       "      <th>9995</th>\n",
       "      <td>0.144802</td>\n",
       "      <td>3.699398e+08</td>\n",
       "      <td>38.788147</td>\n",
       "      <td>0.658874</td>\n",
       "      <td>2.307221e+08</td>\n",
       "    </tr>\n",
       "    <tr>\n",
       "      <th>9996</th>\n",
       "      <td>0.185456</td>\n",
       "      <td>3.811315e+08</td>\n",
       "      <td>42.239871</td>\n",
       "      <td>0.206208</td>\n",
       "      <td>1.037592e+08</td>\n",
       "    </tr>\n",
       "    <tr>\n",
       "      <th>9997</th>\n",
       "      <td>0.256082</td>\n",
       "      <td>3.866766e+08</td>\n",
       "      <td>33.551598</td>\n",
       "      <td>0.649978</td>\n",
       "      <td>3.639333e+08</td>\n",
       "    </tr>\n",
       "    <tr>\n",
       "      <th>9998</th>\n",
       "      <td>0.121129</td>\n",
       "      <td>3.694693e+08</td>\n",
       "      <td>37.600531</td>\n",
       "      <td>0.669499</td>\n",
       "      <td>1.898685e+08</td>\n",
       "    </tr>\n",
       "    <tr>\n",
       "      <th>9999</th>\n",
       "      <td>0.190441</td>\n",
       "      <td>3.692748e+08</td>\n",
       "      <td>28.658944</td>\n",
       "      <td>0.493126</td>\n",
       "      <td>1.674977e+08</td>\n",
       "    </tr>\n",
       "  </tbody>\n",
       "</table>\n",
       "<p>10000 rows × 5 columns</p>\n",
       "</div>"
      ],
      "text/plain": [
       "      Porosity          Area  Thickness  Saturation      OOIP,STB\n",
       "0     0.205123  3.630014e+08  42.599022    0.614500  3.284928e+08\n",
       "1     0.132688  3.812170e+08  22.683780    0.418586  8.094407e+07\n",
       "2     0.122222  3.762840e+08  18.336480    0.515553  7.327148e+07\n",
       "3     0.179499  3.730343e+08  15.372584    0.652480  1.131896e+08\n",
       "4     0.209183  3.709394e+08  21.884503    0.535664  1.532994e+08\n",
       "...        ...           ...        ...         ...           ...\n",
       "9995  0.144802  3.699398e+08  38.788147    0.658874  2.307221e+08\n",
       "9996  0.185456  3.811315e+08  42.239871    0.206208  1.037592e+08\n",
       "9997  0.256082  3.866766e+08  33.551598    0.649978  3.639333e+08\n",
       "9998  0.121129  3.694693e+08  37.600531    0.669499  1.898685e+08\n",
       "9999  0.190441  3.692748e+08  28.658944    0.493126  1.674977e+08\n",
       "\n",
       "[10000 rows x 5 columns]"
      ]
     },
     "execution_count": 6,
     "metadata": {},
     "output_type": "execute_result"
    }
   ],
   "source": [
    "RandomValues = pd.DataFrame({ \"Porosity\": RandomPor,\n",
    "                             \"Area\": RandomArea,\n",
    "                             \"Thickness\": RandomThick,\n",
    "                             \"Saturation\": RandomSo,\n",
    "                             \"OOIP,STB\":RandomOOIP\n",
    "                             })\n",
    "RandomValues"
   ]
  },
  {
   "cell_type": "markdown",
   "id": "d8b08ae1",
   "metadata": {},
   "source": [
    "*Generating a new dataframe which includes; p10, p50, and p90 values of OOIP:*"
   ]
  },
  {
   "cell_type": "code",
   "execution_count": 15,
   "id": "df9e813c",
   "metadata": {},
   "outputs": [
    {
     "data": {
      "text/html": [
       "<div>\n",
       "<style scoped>\n",
       "    .dataframe tbody tr th:only-of-type {\n",
       "        vertical-align: middle;\n",
       "    }\n",
       "\n",
       "    .dataframe tbody tr th {\n",
       "        vertical-align: top;\n",
       "    }\n",
       "\n",
       "    .dataframe thead th {\n",
       "        text-align: right;\n",
       "    }\n",
       "</style>\n",
       "<table border=\"1\" class=\"dataframe\">\n",
       "  <thead>\n",
       "    <tr style=\"text-align: right;\">\n",
       "      <th></th>\n",
       "      <th>P10</th>\n",
       "      <th>P50</th>\n",
       "      <th>P90</th>\n",
       "    </tr>\n",
       "  </thead>\n",
       "  <tbody>\n",
       "    <tr>\n",
       "      <th>0</th>\n",
       "      <td>56.13 MMSTB</td>\n",
       "      <td>126.3 MMSTB</td>\n",
       "      <td>268.45 MMSTB</td>\n",
       "    </tr>\n",
       "  </tbody>\n",
       "</table>\n",
       "</div>"
      ],
      "text/plain": [
       "           P10          P50           P90\n",
       "0  56.13 MMSTB  126.3 MMSTB  268.45 MMSTB"
      ]
     },
     "execution_count": 15,
     "metadata": {},
     "output_type": "execute_result"
    }
   ],
   "source": [
    "P10 = RandomValues[\"OOIP,STB\"].quantile(0.1)\n",
    "P50 = RandomValues[\"OOIP,STB\"].quantile(0.5)\n",
    "P90 = RandomValues[\"OOIP,STB\"].quantile(0.9)\n",
    "\n",
    "MonteCarlo_result= pd.DataFrame({\"P10\":[P10],\n",
    "                     \"P50\":[P50],\n",
    "                     \"P90\":[P90]})\n",
    "\n",
    "\n",
    "BirimliP10=(MonteCarlo_result[\"P10\"]/10**6).round(2).map(\"{} MMSTB\".format)\n",
    "BirimliP50=(MonteCarlo_result[\"P50\"]/10**6).round(2).map(\"{} MMSTB\".format)\n",
    "BirimliP90=(MonteCarlo_result[\"P90\"]/10**6).round(2).map(\"{} MMSTB\".format)\n",
    "\n",
    "\n",
    "MonteCarlo_result_birimli= pd.DataFrame({\n",
    "    \"P10\":BirimliP10,\n",
    "    \"P50\":BirimliP50,\n",
    "    \"P90\":BirimliP90\n",
    "})\n",
    "MonteCarlo_result_birimli"
   ]
  },
  {
   "cell_type": "markdown",
   "id": "27c873d1",
   "metadata": {},
   "source": [
    "*Generating a histogram including the cumulative percentage line showing the p10, p50, and p90 values;*"
   ]
  },
  {
   "cell_type": "code",
   "execution_count": 11,
   "id": "8ea4aae9",
   "metadata": {},
   "outputs": [
    {
     "data": {
      "text/plain": [
       "Text(0.5, 1.0, 'OOIP HISTOGRAM')"
      ]
     },
     "execution_count": 11,
     "metadata": {},
     "output_type": "execute_result"
    },
    {
     "data": {
      "image/png": "[encoded data removed]",
      "text/plain": [
       "<Figure size 640x480 with 2 Axes>"
      ]
     },
     "metadata": {},
     "output_type": "display_data"
    }
   ],
   "source": [
    "Histogram=plt.figure()\n",
    "ax1=sns.histplot(RandomValues[\"OOIP,STB\"], kde=False,color=\"blue\",bins=30)\n",
    "ax2=plt.twinx()\n",
    "ax2=sns.kdeplot(RandomValues[\"OOIP,STB\"], cumulative=True, color=\"orange\",ax=ax2)\n",
    "\n",
    "ax1.set_xlabel(\"OOIP, STB\") # değerleri formatlayamadım\n",
    "ax1.set_ylabel(\"Frequency\")\n",
    "ax2.set_ylabel(\"Cumulative Fraction\")\n",
    "\n",
    "plt.axvline(x=float(MonteCarlo_result[\"P10\"]), color=\"red\", linestyle=\"--\", linewidth=2, label=\"P10: {}\".format(BirimliP10.values[0]))\n",
    "plt.axvline(x=float(MonteCarlo_result[\"P50\"]), color=\"green\", linestyle=\"--\", linewidth=2, label=\"P50: {}\".format(BirimliP50.values[0]))\n",
    "plt.axvline(x=float(MonteCarlo_result[\"P90\"]), color=\"purple\", linestyle=\"--\", linewidth=2, label=\"P90: {}\".format(BirimliP90.values[0]))\n",
    "plt.legend(loc=0)\n",
    "\n",
    "plt.title(\"OOIP HISTOGRAM\")\n",
    "\n"
   ]
  }
 ],
 "metadata": {
  "kernelspec": {
   "display_name": "Python 3 (ipykernel)",
   "language": "python",
   "name": "python3"
  },
  "language_info": {
   "codemirror_mode": {
    "name": "ipython",
    "version": 3
   },
   "file_extension": ".py",
   "mimetype": "text/x-python",
   "name": "python",
   "nbconvert_exporter": "python",
   "pygments_lexer": "ipython3",
   "version": "3.11.3"
  }
 },
 "nbformat": 4,
 "nbformat_minor": 5
}
