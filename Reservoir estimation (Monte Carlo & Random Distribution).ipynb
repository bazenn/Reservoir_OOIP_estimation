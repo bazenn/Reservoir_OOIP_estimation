{
 "cells": [
  {
   "cell_type": "markdown",
   "id": "853d586f",
   "metadata": {},
   "source": [
    "**RESERVOIR ESTIMATION BY USING MONTE CARLO SIMULATION**"
   ]
  },
  {
   "cell_type": "markdown",
   "id": "75c346fc",
   "metadata": {},
   "source": [
    "*Importation of necessary libraries;*"
   ]
  },
  {
   "cell_type": "code",
   "execution_count": 4,
   "id": "74af7190",
   "metadata": {},
   "outputs": [],
   "source": [
    "import pandas as pd\n",
    "import numpy as np\n",
    "import matplotlib.pyplot as plt\n",
    "import matplotlib.ticker as mtick\n",
    "import seaborn as sns\n",
    "from numpy.random import rand  # for uniform distribution\n",
    "from numpy.random import randn # for normal distribution\n"
   ]
  },
  {
   "cell_type": "markdown",
   "id": "1ba6de0d",
   "metadata": {},
   "source": [
    "*Conversion of excel file into a dataframe and doing some arrangments on it;*"
   ]
  },
  {
   "cell_type": "code",
   "execution_count": 5,
   "id": "b430c601",
   "metadata": {},
   "outputs": [],
   "source": [
    "properties = pd.read_excel(\"Reservoir Properties.xlsx\")\n",
    "properties.reset_index(inplace=True)\n",
    "properties.drop(\"level_0\",axis=1,inplace=True)\n",
    "properties.drop(\"index\",axis=1,inplace=True)\n",
    "properties.rename(columns={\"Φe \":\"Porosity\",\"So \":\"OilSaturation\"}, inplace=True)\n"
   ]
  },
  {
   "cell_type": "markdown",
   "id": "01eaee21",
   "metadata": {},
   "source": [
    "*Defining the area of reservoir and formation volume factor of oil which are not present in the excel file;*"
   ]
  },
  {
   "cell_type": "code",
   "execution_count": 6,
   "id": "ea262893",
   "metadata": {},
   "outputs": [],
   "source": [
    "Areas=(8264*43560,8918*43560) # min and max values\n",
    "Bo=1.0680471"
   ]
  },
  {
   "cell_type": "markdown",
   "id": "2cdb0aa8",
   "metadata": {},
   "source": [
    "*Defining min. and max. values of each property;*"
   ]
  },
  {
   "cell_type": "code",
   "execution_count": 7,
   "id": "e5d335cb",
   "metadata": {},
   "outputs": [],
   "source": [
    "# defining min. and max. values:\n",
    "MaxPor=properties[\"Porosity\"].max()\n",
    "MinPor=properties[\"Porosity\"].min()\n",
    "MaxThick=properties[\"Thickness\"].max()\n",
    "MinThick=properties[\"Thickness\"].min()       \n",
    "MaxSo=properties[\"OilSaturation\"].max()\n",
    "MinSo=properties[\"OilSaturation\"].min()\n",
    "MaxArea=max(Areas)\n",
    "MinArea=min(Areas)\n"
   ]
  },
  {
   "cell_type": "markdown",
   "id": "1dc65be3",
   "metadata": {},
   "source": [
    "*Generating 10,000 random values of each property by using normal distribution and defining into numpy array forms, in the range of their min. and max. values;*"
   ]
  },
  {
   "cell_type": "code",
   "execution_count": 8,
   "id": "479af868",
   "metadata": {},
   "outputs": [],
   "source": [
    "np.random.seed(123) \n",
    "RandomPor= np.clip(np.random.normal(MinPor, MaxPor, size=10000),MinPor, MaxPor)\n",
    "\n",
    "np.random.seed(124) \n",
    "RandomArea=np.clip(np.random.normal(MinArea, MaxArea, size=10000),MinArea, MaxArea)\n",
    "\n",
    "np.random.seed(128)\n",
    "RandomThick=np.clip(np.random.normal(MinThick, MaxThick, size=10000),MinThick, MaxThick)\n",
    "\n",
    "np.random.seed(134)\n",
    "RandomSo=np.clip(np.random.normal(MinSo, MaxSo, size=10000),MinSo, MaxSo)\n",
    "\n",
    "RandomOOIP=np.array(0.18*RandomArea*RandomThick*RandomPor*RandomSo/Bo) # OOIP formula.\n",
    "# There is 0.18 multiply in order to convert ft^3 to bbl.\n",
    "\n"
   ]
  },
  {
   "cell_type": "markdown",
   "id": "da9049af",
   "metadata": {},
   "source": [
    "*Generating a new dataframe which includes all random values generated;*"
   ]
  },
  {
   "cell_type": "code",
   "execution_count": 9,
   "id": "57d581b9",
   "metadata": {},
   "outputs": [
    {
     "data": {
      "text/html": [
       "<div>\n",
       "<style scoped>\n",
       "    .dataframe tbody tr th:only-of-type {\n",
       "        vertical-align: middle;\n",
       "    }\n",
       "\n",
       "    .dataframe tbody tr th {\n",
       "        vertical-align: top;\n",
       "    }\n",
       "\n",
       "    .dataframe thead th {\n",
       "        text-align: right;\n",
       "    }\n",
       "</style>\n",
       "<table border=\"1\" class=\"dataframe\">\n",
       "  <thead>\n",
       "    <tr style=\"text-align: right;\">\n",
       "      <th></th>\n",
       "      <th>Porosity</th>\n",
       "      <th>Area</th>\n",
       "      <th>Thickness</th>\n",
       "      <th>Saturation</th>\n",
       "      <th>OOIP,STB</th>\n",
       "    </tr>\n",
       "  </thead>\n",
       "  <tbody>\n",
       "    <tr>\n",
       "      <th>0</th>\n",
       "      <td>0.082176</td>\n",
       "      <td>388468080.0</td>\n",
       "      <td>14.000000</td>\n",
       "      <td>0.177349</td>\n",
       "      <td>1.335789e+07</td>\n",
       "    </tr>\n",
       "    <tr>\n",
       "      <th>1</th>\n",
       "      <td>0.258705</td>\n",
       "      <td>359979840.0</td>\n",
       "      <td>43.101158</td>\n",
       "      <td>0.716108</td>\n",
       "      <td>4.844313e+08</td>\n",
       "    </tr>\n",
       "    <tr>\n",
       "      <th>2</th>\n",
       "      <td>0.155384</td>\n",
       "      <td>359979840.0</td>\n",
       "      <td>46.822143</td>\n",
       "      <td>0.716108</td>\n",
       "      <td>3.160789e+08</td>\n",
       "    </tr>\n",
       "    <tr>\n",
       "      <th>3</th>\n",
       "      <td>0.082176</td>\n",
       "      <td>388468080.0</td>\n",
       "      <td>14.000000</td>\n",
       "      <td>0.388710</td>\n",
       "      <td>2.927758e+07</td>\n",
       "    </tr>\n",
       "    <tr>\n",
       "      <th>4</th>\n",
       "      <td>0.082176</td>\n",
       "      <td>359979840.0</td>\n",
       "      <td>35.578990</td>\n",
       "      <td>0.716108</td>\n",
       "      <td>1.270212e+08</td>\n",
       "    </tr>\n",
       "    <tr>\n",
       "      <th>...</th>\n",
       "      <td>...</td>\n",
       "      <td>...</td>\n",
       "      <td>...</td>\n",
       "      <td>...</td>\n",
       "      <td>...</td>\n",
       "    </tr>\n",
       "    <tr>\n",
       "      <th>9995</th>\n",
       "      <td>0.082176</td>\n",
       "      <td>388468080.0</td>\n",
       "      <td>36.278446</td>\n",
       "      <td>0.177349</td>\n",
       "      <td>3.461454e+07</td>\n",
       "    </tr>\n",
       "    <tr>\n",
       "      <th>9996</th>\n",
       "      <td>0.082176</td>\n",
       "      <td>388468080.0</td>\n",
       "      <td>47.000000</td>\n",
       "      <td>0.240125</td>\n",
       "      <td>6.071799e+07</td>\n",
       "    </tr>\n",
       "    <tr>\n",
       "      <th>9997</th>\n",
       "      <td>0.082176</td>\n",
       "      <td>359979840.0</td>\n",
       "      <td>20.373807</td>\n",
       "      <td>0.276414</td>\n",
       "      <td>2.807604e+07</td>\n",
       "    </tr>\n",
       "    <tr>\n",
       "      <th>9998</th>\n",
       "      <td>0.232733</td>\n",
       "      <td>388468080.0</td>\n",
       "      <td>14.000000</td>\n",
       "      <td>0.177349</td>\n",
       "      <td>3.783132e+07</td>\n",
       "    </tr>\n",
       "    <tr>\n",
       "      <th>9999</th>\n",
       "      <td>0.258705</td>\n",
       "      <td>388468080.0</td>\n",
       "      <td>14.000000</td>\n",
       "      <td>0.177349</td>\n",
       "      <td>4.205314e+07</td>\n",
       "    </tr>\n",
       "  </tbody>\n",
       "</table>\n",
       "<p>10000 rows × 5 columns</p>\n",
       "</div>"
      ],
      "text/plain": [
       "      Porosity         Area  Thickness  Saturation      OOIP,STB\n",
       "0     0.082176  388468080.0  14.000000    0.177349  1.335789e+07\n",
       "1     0.258705  359979840.0  43.101158    0.716108  4.844313e+08\n",
       "2     0.155384  359979840.0  46.822143    0.716108  3.160789e+08\n",
       "3     0.082176  388468080.0  14.000000    0.388710  2.927758e+07\n",
       "4     0.082176  359979840.0  35.578990    0.716108  1.270212e+08\n",
       "...        ...          ...        ...         ...           ...\n",
       "9995  0.082176  388468080.0  36.278446    0.177349  3.461454e+07\n",
       "9996  0.082176  388468080.0  47.000000    0.240125  6.071799e+07\n",
       "9997  0.082176  359979840.0  20.373807    0.276414  2.807604e+07\n",
       "9998  0.232733  388468080.0  14.000000    0.177349  3.783132e+07\n",
       "9999  0.258705  388468080.0  14.000000    0.177349  4.205314e+07\n",
       "\n",
       "[10000 rows x 5 columns]"
      ]
     },
     "execution_count": 9,
     "metadata": {},
     "output_type": "execute_result"
    }
   ],
   "source": [
    "RandomValues = pd.DataFrame({ \"Porosity\": RandomPor,\n",
    "                             \"Area\": RandomArea,\n",
    "                             \"Thickness\": RandomThick,\n",
    "                             \"Saturation\": RandomSo,\n",
    "                             \"OOIP,STB\":RandomOOIP\n",
    "                             })\n",
    "RandomValues"
   ]
  },
  {
   "cell_type": "markdown",
   "id": "d8b08ae1",
   "metadata": {},
   "source": [
    "*Generating a new dataframe which includes; p10, p50, and p90 values of OOIP:*"
   ]
  },
  {
   "cell_type": "code",
   "execution_count": 26,
   "id": "df9e813c",
   "metadata": {},
   "outputs": [
    {
     "data": {
      "text/html": [
       "<div>\n",
       "<style scoped>\n",
       "    .dataframe tbody tr th:only-of-type {\n",
       "        vertical-align: middle;\n",
       "    }\n",
       "\n",
       "    .dataframe tbody tr th {\n",
       "        vertical-align: top;\n",
       "    }\n",
       "\n",
       "    .dataframe thead th {\n",
       "        text-align: right;\n",
       "    }\n",
       "</style>\n",
       "<table border=\"1\" class=\"dataframe\">\n",
       "  <thead>\n",
       "    <tr style=\"text-align: right;\">\n",
       "      <th></th>\n",
       "      <th>P10</th>\n",
       "      <th>P50</th>\n",
       "      <th>P90</th>\n",
       "    </tr>\n",
       "  </thead>\n",
       "  <tbody>\n",
       "    <tr>\n",
       "      <th>0</th>\n",
       "      <td>13.36 MMSTB</td>\n",
       "      <td>49.98 MMSTB</td>\n",
       "      <td>175.7 MMSTB</td>\n",
       "    </tr>\n",
       "  </tbody>\n",
       "</table>\n",
       "</div>"
      ],
      "text/plain": [
       "           P10          P50          P90\n",
       "0  13.36 MMSTB  49.98 MMSTB  175.7 MMSTB"
      ]
     },
     "execution_count": 26,
     "metadata": {},
     "output_type": "execute_result"
    }
   ],
   "source": [
    "P10 = RandomValues[\"OOIP,STB\"].quantile(0.1)\n",
    "P50 = RandomValues[\"OOIP,STB\"].quantile(0.5)\n",
    "P90 = RandomValues[\"OOIP,STB\"].quantile(0.9)\n",
    "\n",
    "MonteCarlo_result= pd.DataFrame({\"P10\":[P10],\n",
    "                     \"P50\":[P50],\n",
    "                     \"P90\":[P90]})\n",
    "\n",
    "# İstedğim birim ie gösterebilmek için ayrı bir dataframe oluşturuyorum\n",
    "BirimliP10=(MonteCarlo_result[\"P10\"]/10**6).round(2).map(\"{} MMSTB\".format)\n",
    "BirimliP50=(MonteCarlo_result[\"P50\"]/10**6).round(2).map(\"{} MMSTB\".format)\n",
    "BirimliP90=(MonteCarlo_result[\"P90\"]/10**6).round(2).map(\"{} MMSTB\".format)\n",
    "\n",
    "MonteCarlo_result_birimli= pd.DataFrame({\n",
    "    \"P10\":BirimliP10,\n",
    "    \"P50\":BirimliP50,\n",
    "    \"P90\":BirimliP90\n",
    "})\n",
    "\n",
    "MonteCarlo_result_birimli\n",
    "\n"
   ]
  },
  {
   "cell_type": "markdown",
   "id": "27c873d1",
   "metadata": {},
   "source": [
    "*Generating a histogram including the cumulative percentage line showing the p10, p50, and p90 values;*"
   ]
  },
  {
   "cell_type": "code",
   "execution_count": 24,
   "id": "8ea4aae9",
   "metadata": {},
   "outputs": [
    {
     "data": {
      "text/plain": [
       "Text(0.5, 1.0, 'OOIP HISTOGRAM')"
      ]
     },
     "execution_count": 24,
     "metadata": {},
     "output_type": "execute_result"
    },
    {
     "data": {
      "image/png": "[encoded data removed]",
      "text/plain": [
       "<Figure size 640x480 with 2 Axes>"
      ]
     },
     "metadata": {},
     "output_type": "display_data"
    }
   ],
   "source": [
    "Histogram=plt.figure()\n",
    "ax1=sns.histplot(RandomValues[\"OOIP,STB\"], kde=False,color=\"blue\",bins=30)\n",
    "ax2=plt.twinx()\n",
    "ax2=sns.kdeplot(RandomValues[\"OOIP,STB\"], cumulative=True, color=\"orange\",ax=ax2)\n",
    "\n",
    "ax1.set_xlabel(\"OOIP, STB\") # değerleri formatlayamadım\n",
    "ax1.set_ylabel(\"Frequency\")\n",
    "ax2.set_ylabel(\"Cumulative Fraction\")\n",
    "\n",
    "plt.axvline(x=float(MonteCarlo_result[\"P10\"]), color=\"red\", linestyle=\"--\", linewidth=2, label=\"P10: {}\".format(BirimliP10.values[0]))\n",
    "plt.axvline(x=float(MonteCarlo_result[\"P50\"]), color=\"green\", linestyle=\"--\", linewidth=2, label=\"P50: {}\".format(BirimliP50.values[0]))\n",
    "plt.axvline(x=float(MonteCarlo_result[\"P90\"]), color=\"purple\", linestyle=\"--\", linewidth=2, label=\"P90: {}\".format(BirimliP90.values[0]))\n",
    "plt.legend(loc=0)\n",
    "\n",
    "plt.title(\"OOIP HISTOGRAM\")\n",
    "\n"
   ]
  }
 ],
 "metadata": {
  "kernelspec": {
   "display_name": "Python 3 (ipykernel)",
   "language": "python",
   "name": "python3"
  },
  "language_info": {
   "codemirror_mode": {
    "name": "ipython",
    "version": 3
   },
   "file_extension": ".py",
   "mimetype": "text/x-python",
   "name": "python",
   "nbconvert_exporter": "python",
   "pygments_lexer": "ipython3",
   "version": "3.11.3"
  }
 },
 "nbformat": 4,
 "nbformat_minor": 5
}
